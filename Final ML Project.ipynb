{
 "cells": [
  {
   "attachments": {},
   "cell_type": "markdown",
   "id": "b1be0aea",
   "metadata": {},
   "source": [
    "# ML Project on Cricket Match Prediction "
   ]
  },
  {
   "attachments": {},
   "cell_type": "markdown",
   "id": "invisible-hammer",
   "metadata": {
    "execution": {
     "iopub.execute_input": "2021-05-30T07:33:25.823624Z",
     "iopub.status.busy": "2021-05-30T07:33:25.823243Z",
     "iopub.status.idle": "2021-05-30T07:33:25.827785Z",
     "shell.execute_reply": "2021-05-30T07:33:25.827022Z",
     "shell.execute_reply.started": "2021-05-30T07:33:25.823536Z"
    },
    "papermill": {
     "duration": 0.04221,
     "end_time": "2021-06-25T21:16:58.843484",
     "exception": false,
     "start_time": "2021-06-25T21:16:58.801274",
     "status": "completed"
    },
    "tags": []
   },
   "source": [
    "# Libraries"
   ]
  },
  {
   "cell_type": "code",
   "execution_count": 35,
   "id": "honey-warren",
   "metadata": {
    "_cell_guid": "b1076dfc-b9ad-4769-8c92-a6c4dae69d19",
    "_uuid": "8f2839f25d086af736a60e9eeb907d3b93b6e0e5",
    "execution": {
     "iopub.execute_input": "2021-06-25T21:16:58.941363Z",
     "iopub.status.busy": "2021-06-25T21:16:58.940560Z",
     "iopub.status.idle": "2021-06-25T21:17:02.764403Z",
     "shell.execute_reply": "2021-06-25T21:17:02.765113Z",
     "shell.execute_reply.started": "2021-06-05T14:30:41.500232Z"
    },
    "papermill": {
     "duration": 3.87998,
     "end_time": "2021-06-25T21:17:02.765471",
     "exception": false,
     "start_time": "2021-06-25T21:16:58.885491",
     "status": "completed"
    },
    "tags": []
   },
   "outputs": [],
   "source": [
    "import pandas as pd\n",
    "import numpy as np \n",
    "import math\n",
    "from sklearn import svm\n",
    "from sklearn.model_selection import train_test_split\n",
    "import xgboost\n",
    "from sklearn.metrics import accuracy_score, confusion_matrix, classification_report\n",
    "from sklearn.model_selection import RepeatedStratifiedKFold\n",
    "from sklearn.model_selection import cross_val_score\n",
    "from sklearn.linear_model import LogisticRegression\n",
    "from sklearn import tree\n",
    "\n",
    "import matplotlib.pyplot as plt\n",
    "import seaborn as sns"
   ]
  },
  {
   "attachments": {},
   "cell_type": "markdown",
   "id": "differential-murray",
   "metadata": {
    "papermill": {
     "duration": 0.04252,
     "end_time": "2021-06-25T21:17:02.851537",
     "exception": false,
     "start_time": "2021-06-25T21:17:02.809017",
     "status": "completed"
    },
    "tags": []
   },
   "source": [
    "# Importing Data"
   ]
  },
  {
   "cell_type": "code",
   "execution_count": 36,
   "id": "danish-failure",
   "metadata": {
    "execution": {
     "iopub.execute_input": "2021-06-25T21:17:02.938272Z",
     "iopub.status.busy": "2021-06-25T21:17:02.937548Z",
     "iopub.status.idle": "2021-06-25T21:17:03.058514Z",
     "shell.execute_reply": "2021-06-25T21:17:03.057952Z",
     "shell.execute_reply.started": "2021-06-05T14:30:41.539922Z"
    },
    "papermill": {
     "duration": 0.165154,
     "end_time": "2021-06-25T21:17:03.058639",
     "exception": false,
     "start_time": "2021-06-25T21:17:02.893485",
     "status": "completed"
    },
    "tags": []
   },
   "outputs": [
    {
     "data": {
      "text/html": [
       "<div>\n",
       "<style scoped>\n",
       "    .dataframe tbody tr th:only-of-type {\n",
       "        vertical-align: middle;\n",
       "    }\n",
       "\n",
       "    .dataframe tbody tr th {\n",
       "        vertical-align: top;\n",
       "    }\n",
       "\n",
       "    .dataframe thead th {\n",
       "        text-align: right;\n",
       "    }\n",
       "</style>\n",
       "<table border=\"1\" class=\"dataframe\">\n",
       "  <thead>\n",
       "    <tr style=\"text-align: right;\">\n",
       "      <th></th>\n",
       "      <th>psl_year</th>\n",
       "      <th>match_number</th>\n",
       "      <th>team_1</th>\n",
       "      <th>team_2</th>\n",
       "      <th>inning</th>\n",
       "      <th>over</th>\n",
       "      <th>ball</th>\n",
       "      <th>runs</th>\n",
       "      <th>total_runs</th>\n",
       "      <th>wickets</th>\n",
       "      <th>is_four</th>\n",
       "      <th>is_six</th>\n",
       "      <th>is_wicket</th>\n",
       "      <th>wicket</th>\n",
       "      <th>wicket_text</th>\n",
       "      <th>result</th>\n",
       "    </tr>\n",
       "  </thead>\n",
       "  <tbody>\n",
       "    <tr>\n",
       "      <th>0</th>\n",
       "      <td>2016</td>\n",
       "      <td>1</td>\n",
       "      <td>Islamabad United</td>\n",
       "      <td>Quetta Gladiators</td>\n",
       "      <td>1</td>\n",
       "      <td>1</td>\n",
       "      <td>1</td>\n",
       "      <td>0</td>\n",
       "      <td>0</td>\n",
       "      <td>0</td>\n",
       "      <td>False</td>\n",
       "      <td>False</td>\n",
       "      <td>False</td>\n",
       "      <td>NaN</td>\n",
       "      <td>NaN</td>\n",
       "      <td>Gladiators</td>\n",
       "    </tr>\n",
       "    <tr>\n",
       "      <th>1</th>\n",
       "      <td>2016</td>\n",
       "      <td>1</td>\n",
       "      <td>Islamabad United</td>\n",
       "      <td>Quetta Gladiators</td>\n",
       "      <td>1</td>\n",
       "      <td>1</td>\n",
       "      <td>2</td>\n",
       "      <td>0</td>\n",
       "      <td>0</td>\n",
       "      <td>0</td>\n",
       "      <td>False</td>\n",
       "      <td>False</td>\n",
       "      <td>False</td>\n",
       "      <td>NaN</td>\n",
       "      <td>NaN</td>\n",
       "      <td>Gladiators</td>\n",
       "    </tr>\n",
       "    <tr>\n",
       "      <th>2</th>\n",
       "      <td>2016</td>\n",
       "      <td>1</td>\n",
       "      <td>Islamabad United</td>\n",
       "      <td>Quetta Gladiators</td>\n",
       "      <td>1</td>\n",
       "      <td>1</td>\n",
       "      <td>3</td>\n",
       "      <td>0</td>\n",
       "      <td>0</td>\n",
       "      <td>0</td>\n",
       "      <td>False</td>\n",
       "      <td>False</td>\n",
       "      <td>False</td>\n",
       "      <td>NaN</td>\n",
       "      <td>NaN</td>\n",
       "      <td>Gladiators</td>\n",
       "    </tr>\n",
       "    <tr>\n",
       "      <th>3</th>\n",
       "      <td>2016</td>\n",
       "      <td>1</td>\n",
       "      <td>Islamabad United</td>\n",
       "      <td>Quetta Gladiators</td>\n",
       "      <td>1</td>\n",
       "      <td>1</td>\n",
       "      <td>4</td>\n",
       "      <td>0</td>\n",
       "      <td>0</td>\n",
       "      <td>0</td>\n",
       "      <td>False</td>\n",
       "      <td>False</td>\n",
       "      <td>False</td>\n",
       "      <td>NaN</td>\n",
       "      <td>NaN</td>\n",
       "      <td>Gladiators</td>\n",
       "    </tr>\n",
       "    <tr>\n",
       "      <th>4</th>\n",
       "      <td>2016</td>\n",
       "      <td>1</td>\n",
       "      <td>Islamabad United</td>\n",
       "      <td>Quetta Gladiators</td>\n",
       "      <td>1</td>\n",
       "      <td>1</td>\n",
       "      <td>5</td>\n",
       "      <td>0</td>\n",
       "      <td>0</td>\n",
       "      <td>0</td>\n",
       "      <td>False</td>\n",
       "      <td>False</td>\n",
       "      <td>False</td>\n",
       "      <td>NaN</td>\n",
       "      <td>NaN</td>\n",
       "      <td>Gladiators</td>\n",
       "    </tr>\n",
       "  </tbody>\n",
       "</table>\n",
       "</div>"
      ],
      "text/plain": [
       "   psl_year  match_number            team_1             team_2  inning  over  \\\n",
       "0      2016             1  Islamabad United  Quetta Gladiators       1     1   \n",
       "1      2016             1  Islamabad United  Quetta Gladiators       1     1   \n",
       "2      2016             1  Islamabad United  Quetta Gladiators       1     1   \n",
       "3      2016             1  Islamabad United  Quetta Gladiators       1     1   \n",
       "4      2016             1  Islamabad United  Quetta Gladiators       1     1   \n",
       "\n",
       "   ball  runs  total_runs  wickets  is_four  is_six  is_wicket  wicket  \\\n",
       "0     1     0           0        0    False   False      False     NaN   \n",
       "1     2     0           0        0    False   False      False     NaN   \n",
       "2     3     0           0        0    False   False      False     NaN   \n",
       "3     4     0           0        0    False   False      False     NaN   \n",
       "4     5     0           0        0    False   False      False     NaN   \n",
       "\n",
       "  wicket_text      result  \n",
       "0         NaN  Gladiators  \n",
       "1         NaN  Gladiators  \n",
       "2         NaN  Gladiators  \n",
       "3         NaN  Gladiators  \n",
       "4         NaN  Gladiators  "
      ]
     },
     "execution_count": 36,
     "metadata": {},
     "output_type": "execute_result"
    }
   ],
   "source": [
    "df = pd.read_csv('psl_formated.csv')\n",
    "df.head()\n"
   ]
  },
  {
   "attachments": {},
   "cell_type": "markdown",
   "id": "enhanced-muslim",
   "metadata": {
    "papermill": {
     "duration": 0.042919,
     "end_time": "2021-06-25T21:17:03.144817",
     "exception": false,
     "start_time": "2021-06-25T21:17:03.101898",
     "status": "completed"
    },
    "tags": []
   },
   "source": [
    "# Data preprocessing"
   ]
  },
  {
   "cell_type": "code",
   "execution_count": 37,
   "id": "heard-reynolds",
   "metadata": {
    "execution": {
     "iopub.execute_input": "2021-06-25T21:17:03.237851Z",
     "iopub.status.busy": "2021-06-25T21:17:03.237245Z",
     "iopub.status.idle": "2021-06-25T21:17:03.242699Z",
     "shell.execute_reply": "2021-06-25T21:17:03.242279Z",
     "shell.execute_reply.started": "2021-06-05T14:30:41.62205Z"
    },
    "papermill": {
     "duration": 0.055913,
     "end_time": "2021-06-25T21:17:03.242847",
     "exception": false,
     "start_time": "2021-06-25T21:17:03.186934",
     "status": "completed"
    },
    "tags": []
   },
   "outputs": [
    {
     "data": {
      "text/plain": [
       "array([nan,  1.,  2.,  3.,  4.,  5.,  6.,  8.])"
      ]
     },
     "execution_count": 37,
     "metadata": {},
     "output_type": "execute_result"
    }
   ],
   "source": [
    "df['wicket'].unique()"
   ]
  },
  {
   "cell_type": "code",
   "execution_count": 38,
   "id": "disabled-purple",
   "metadata": {
    "execution": {
     "iopub.execute_input": "2021-06-25T21:17:03.336092Z",
     "iopub.status.busy": "2021-06-25T21:17:03.335223Z",
     "iopub.status.idle": "2021-06-25T21:17:03.339368Z",
     "shell.execute_reply": "2021-06-25T21:17:03.338816Z",
     "shell.execute_reply.started": "2021-06-05T14:30:41.630467Z"
    },
    "papermill": {
     "duration": 0.053932,
     "end_time": "2021-06-25T21:17:03.339500",
     "exception": false,
     "start_time": "2021-06-25T21:17:03.285568",
     "status": "completed"
    },
    "tags": []
   },
   "outputs": [
    {
     "data": {
      "text/plain": [
       "array([nan, 'caught', 'bowled', 'lbw', 'run out', 'stumped', 'hit wicket',\n",
       "       'obstruct field'], dtype=object)"
      ]
     },
     "execution_count": 38,
     "metadata": {},
     "output_type": "execute_result"
    }
   ],
   "source": [
    "df['wicket_text'].unique()"
   ]
  },
  {
   "cell_type": "code",
   "execution_count": 39,
   "id": "frequent-stock",
   "metadata": {
    "execution": {
     "iopub.execute_input": "2021-06-25T21:17:03.429683Z",
     "iopub.status.busy": "2021-06-25T21:17:03.429047Z",
     "iopub.status.idle": "2021-06-25T21:17:03.444358Z",
     "shell.execute_reply": "2021-06-25T21:17:03.444762Z",
     "shell.execute_reply.started": "2021-06-05T14:30:41.653418Z"
    },
    "papermill": {
     "duration": 0.062714,
     "end_time": "2021-06-25T21:17:03.444933",
     "exception": false,
     "start_time": "2021-06-25T21:17:03.382219",
     "status": "completed"
    },
    "tags": []
   },
   "outputs": [
    {
     "data": {
      "text/html": [
       "<div>\n",
       "<style scoped>\n",
       "    .dataframe tbody tr th:only-of-type {\n",
       "        vertical-align: middle;\n",
       "    }\n",
       "\n",
       "    .dataframe tbody tr th {\n",
       "        vertical-align: top;\n",
       "    }\n",
       "\n",
       "    .dataframe thead th {\n",
       "        text-align: right;\n",
       "    }\n",
       "</style>\n",
       "<table border=\"1\" class=\"dataframe\">\n",
       "  <thead>\n",
       "    <tr style=\"text-align: right;\">\n",
       "      <th></th>\n",
       "      <th>psl_year</th>\n",
       "      <th>match_number</th>\n",
       "      <th>team_1</th>\n",
       "      <th>team_2</th>\n",
       "      <th>inning</th>\n",
       "      <th>over</th>\n",
       "      <th>ball</th>\n",
       "      <th>runs</th>\n",
       "      <th>total_runs</th>\n",
       "      <th>wickets</th>\n",
       "      <th>is_four</th>\n",
       "      <th>is_six</th>\n",
       "      <th>is_wicket</th>\n",
       "      <th>wicket</th>\n",
       "      <th>wicket_text</th>\n",
       "      <th>result</th>\n",
       "    </tr>\n",
       "  </thead>\n",
       "  <tbody>\n",
       "    <tr>\n",
       "      <th>0</th>\n",
       "      <td>2016</td>\n",
       "      <td>1</td>\n",
       "      <td>Islamabad United</td>\n",
       "      <td>Quetta Gladiators</td>\n",
       "      <td>1</td>\n",
       "      <td>1</td>\n",
       "      <td>1</td>\n",
       "      <td>0</td>\n",
       "      <td>0</td>\n",
       "      <td>0</td>\n",
       "      <td>False</td>\n",
       "      <td>False</td>\n",
       "      <td>False</td>\n",
       "      <td>0.0</td>\n",
       "      <td>NaN</td>\n",
       "      <td>Gladiators</td>\n",
       "    </tr>\n",
       "    <tr>\n",
       "      <th>1</th>\n",
       "      <td>2016</td>\n",
       "      <td>1</td>\n",
       "      <td>Islamabad United</td>\n",
       "      <td>Quetta Gladiators</td>\n",
       "      <td>1</td>\n",
       "      <td>1</td>\n",
       "      <td>2</td>\n",
       "      <td>0</td>\n",
       "      <td>0</td>\n",
       "      <td>0</td>\n",
       "      <td>False</td>\n",
       "      <td>False</td>\n",
       "      <td>False</td>\n",
       "      <td>0.0</td>\n",
       "      <td>NaN</td>\n",
       "      <td>Gladiators</td>\n",
       "    </tr>\n",
       "    <tr>\n",
       "      <th>2</th>\n",
       "      <td>2016</td>\n",
       "      <td>1</td>\n",
       "      <td>Islamabad United</td>\n",
       "      <td>Quetta Gladiators</td>\n",
       "      <td>1</td>\n",
       "      <td>1</td>\n",
       "      <td>3</td>\n",
       "      <td>0</td>\n",
       "      <td>0</td>\n",
       "      <td>0</td>\n",
       "      <td>False</td>\n",
       "      <td>False</td>\n",
       "      <td>False</td>\n",
       "      <td>0.0</td>\n",
       "      <td>NaN</td>\n",
       "      <td>Gladiators</td>\n",
       "    </tr>\n",
       "    <tr>\n",
       "      <th>3</th>\n",
       "      <td>2016</td>\n",
       "      <td>1</td>\n",
       "      <td>Islamabad United</td>\n",
       "      <td>Quetta Gladiators</td>\n",
       "      <td>1</td>\n",
       "      <td>1</td>\n",
       "      <td>4</td>\n",
       "      <td>0</td>\n",
       "      <td>0</td>\n",
       "      <td>0</td>\n",
       "      <td>False</td>\n",
       "      <td>False</td>\n",
       "      <td>False</td>\n",
       "      <td>0.0</td>\n",
       "      <td>NaN</td>\n",
       "      <td>Gladiators</td>\n",
       "    </tr>\n",
       "    <tr>\n",
       "      <th>4</th>\n",
       "      <td>2016</td>\n",
       "      <td>1</td>\n",
       "      <td>Islamabad United</td>\n",
       "      <td>Quetta Gladiators</td>\n",
       "      <td>1</td>\n",
       "      <td>1</td>\n",
       "      <td>5</td>\n",
       "      <td>0</td>\n",
       "      <td>0</td>\n",
       "      <td>0</td>\n",
       "      <td>False</td>\n",
       "      <td>False</td>\n",
       "      <td>False</td>\n",
       "      <td>0.0</td>\n",
       "      <td>NaN</td>\n",
       "      <td>Gladiators</td>\n",
       "    </tr>\n",
       "  </tbody>\n",
       "</table>\n",
       "</div>"
      ],
      "text/plain": [
       "   psl_year  match_number            team_1             team_2  inning  over  \\\n",
       "0      2016             1  Islamabad United  Quetta Gladiators       1     1   \n",
       "1      2016             1  Islamabad United  Quetta Gladiators       1     1   \n",
       "2      2016             1  Islamabad United  Quetta Gladiators       1     1   \n",
       "3      2016             1  Islamabad United  Quetta Gladiators       1     1   \n",
       "4      2016             1  Islamabad United  Quetta Gladiators       1     1   \n",
       "\n",
       "   ball  runs  total_runs  wickets  is_four  is_six  is_wicket  wicket  \\\n",
       "0     1     0           0        0    False   False      False     0.0   \n",
       "1     2     0           0        0    False   False      False     0.0   \n",
       "2     3     0           0        0    False   False      False     0.0   \n",
       "3     4     0           0        0    False   False      False     0.0   \n",
       "4     5     0           0        0    False   False      False     0.0   \n",
       "\n",
       "  wicket_text      result  \n",
       "0         NaN  Gladiators  \n",
       "1         NaN  Gladiators  \n",
       "2         NaN  Gladiators  \n",
       "3         NaN  Gladiators  \n",
       "4         NaN  Gladiators  "
      ]
     },
     "execution_count": 39,
     "metadata": {},
     "output_type": "execute_result"
    }
   ],
   "source": [
    "df['wicket'].fillna(0,inplace = True)\n",
    "df.head()"
   ]
  },
  {
   "cell_type": "markdown",
   "id": "tough-message",
   "metadata": {
    "papermill": {
     "duration": 0.042712,
     "end_time": "2021-06-25T21:17:03.530816",
     "exception": false,
     "start_time": "2021-06-25T21:17:03.488104",
     "status": "completed"
    },
    "tags": []
   },
   "source": [
    "#### Hence, we replaced the nans in the 'wicket' column with 0."
   ]
  },
  {
   "cell_type": "markdown",
   "id": "global-logan",
   "metadata": {
    "papermill": {
     "duration": 0.043136,
     "end_time": "2021-06-25T21:17:03.617584",
     "exception": false,
     "start_time": "2021-06-25T21:17:03.574448",
     "status": "completed"
    },
    "tags": []
   },
   "source": [
    "# Boundaries Count"
   ]
  },
  {
   "cell_type": "code",
   "execution_count": 40,
   "id": "moral-thumbnail",
   "metadata": {
    "execution": {
     "iopub.execute_input": "2021-06-25T21:17:03.707044Z",
     "iopub.status.busy": "2021-06-25T21:17:03.706484Z",
     "iopub.status.idle": "2021-06-25T21:17:03.737596Z",
     "shell.execute_reply": "2021-06-25T21:17:03.738273Z",
     "shell.execute_reply.started": "2021-06-05T14:30:41.680669Z"
    },
    "papermill": {
     "duration": 0.077708,
     "end_time": "2021-06-25T21:17:03.738468",
     "exception": false,
     "start_time": "2021-06-25T21:17:03.660760",
     "status": "completed"
    },
    "tags": []
   },
   "outputs": [
    {
     "data": {
      "text/html": [
       "<div>\n",
       "<style scoped>\n",
       "    .dataframe tbody tr th:only-of-type {\n",
       "        vertical-align: middle;\n",
       "    }\n",
       "\n",
       "    .dataframe tbody tr th {\n",
       "        vertical-align: top;\n",
       "    }\n",
       "\n",
       "    .dataframe thead th {\n",
       "        text-align: right;\n",
       "    }\n",
       "</style>\n",
       "<table border=\"1\" class=\"dataframe\">\n",
       "  <thead>\n",
       "    <tr style=\"text-align: right;\">\n",
       "      <th></th>\n",
       "      <th>psl_year</th>\n",
       "      <th>fours</th>\n",
       "      <th>sixes</th>\n",
       "      <th>matches</th>\n",
       "    </tr>\n",
       "  </thead>\n",
       "  <tbody>\n",
       "    <tr>\n",
       "      <th>0</th>\n",
       "      <td>2016</td>\n",
       "      <td>566</td>\n",
       "      <td>247</td>\n",
       "      <td>24</td>\n",
       "    </tr>\n",
       "    <tr>\n",
       "      <th>1</th>\n",
       "      <td>2017</td>\n",
       "      <td>552</td>\n",
       "      <td>258</td>\n",
       "      <td>24</td>\n",
       "    </tr>\n",
       "    <tr>\n",
       "      <th>2</th>\n",
       "      <td>2018</td>\n",
       "      <td>774</td>\n",
       "      <td>414</td>\n",
       "      <td>34</td>\n",
       "    </tr>\n",
       "    <tr>\n",
       "      <th>3</th>\n",
       "      <td>2019</td>\n",
       "      <td>878</td>\n",
       "      <td>374</td>\n",
       "      <td>34</td>\n",
       "    </tr>\n",
       "    <tr>\n",
       "      <th>4</th>\n",
       "      <td>2020</td>\n",
       "      <td>873</td>\n",
       "      <td>383</td>\n",
       "      <td>34</td>\n",
       "    </tr>\n",
       "  </tbody>\n",
       "</table>\n",
       "</div>"
      ],
      "text/plain": [
       "   psl_year  fours  sixes  matches\n",
       "0      2016    566    247       24\n",
       "1      2017    552    258       24\n",
       "2      2018    774    414       34\n",
       "3      2019    878    374       34\n",
       "4      2020    873    383       34"
      ]
     },
     "execution_count": 40,
     "metadata": {},
     "output_type": "execute_result"
    }
   ],
   "source": [
    "boundries_df = df.groupby(['psl_year']).agg(\n",
    "    fours = ('is_four','sum'),\n",
    "    sixes = ('is_six','sum'),\n",
    "    matches = ('match_number','max')\n",
    "    \n",
    ")\n",
    "boundries_df = boundries_df.reset_index()\n",
    "boundries_df"
   ]
  },
  {
   "cell_type": "code",
   "execution_count": 41,
   "id": "solved-millennium",
   "metadata": {
    "execution": {
     "iopub.execute_input": "2021-06-25T21:17:03.829374Z",
     "iopub.status.busy": "2021-06-25T21:17:03.828798Z",
     "iopub.status.idle": "2021-06-25T21:17:04.018820Z",
     "shell.execute_reply": "2021-06-25T21:17:04.018350Z",
     "shell.execute_reply.started": "2021-06-05T14:30:41.716053Z"
    },
    "papermill": {
     "duration": 0.236117,
     "end_time": "2021-06-25T21:17:04.018959",
     "exception": false,
     "start_time": "2021-06-25T21:17:03.782842",
     "status": "completed"
    },
    "tags": []
   },
   "outputs": [
    {
     "data": {
      "image/png": "[encoded data removed]",
      "text/plain": [
       "<Figure size 432x288 with 1 Axes>"
      ]
     },
     "metadata": {
      "needs_background": "light"
     },
     "output_type": "display_data"
    }
   ],
   "source": [
    "ax = boundries_df.plot('psl_year', 'fours', kind='bar')"
   ]
  },
  {
   "cell_type": "code",
   "execution_count": 42,
   "id": "crucial-horror",
   "metadata": {
    "execution": {
     "iopub.execute_input": "2021-06-25T21:17:04.128500Z",
     "iopub.status.busy": "2021-06-25T21:17:04.127899Z",
     "iopub.status.idle": "2021-06-25T21:17:04.263124Z",
     "shell.execute_reply": "2021-06-25T21:17:04.262494Z",
     "shell.execute_reply.started": "2021-06-05T14:30:41.903Z"
    },
    "papermill": {
     "duration": 0.19969,
     "end_time": "2021-06-25T21:17:04.263268",
     "exception": false,
     "start_time": "2021-06-25T21:17:04.063578",
     "status": "completed"
    },
    "tags": []
   },
   "outputs": [
    {
     "data": {
      "image/png": "[encoded data removed]",
      "text/plain": [
       "<Figure size 432x288 with 1 Axes>"
      ]
     },
     "metadata": {
      "needs_background": "light"
     },
     "output_type": "display_data"
    }
   ],
   "source": [
    "ax = boundries_df.plot('psl_year', 'sixes', kind='bar')"
   ]
  },
  {
   "cell_type": "code",
   "execution_count": 43,
   "id": "victorian-intersection",
   "metadata": {
    "execution": {
     "iopub.execute_input": "2021-06-25T21:17:04.357798Z",
     "iopub.status.busy": "2021-06-25T21:17:04.357241Z",
     "iopub.status.idle": "2021-06-25T21:17:04.378432Z",
     "shell.execute_reply": "2021-06-25T21:17:04.377913Z",
     "shell.execute_reply.started": "2021-06-05T14:30:42.109175Z"
    },
    "papermill": {
     "duration": 0.07069,
     "end_time": "2021-06-25T21:17:04.378562",
     "exception": false,
     "start_time": "2021-06-25T21:17:04.307872",
     "status": "completed"
    },
    "tags": []
   },
   "outputs": [],
   "source": [
    "boundries_df['fours_per_match'] = boundries_df['fours']/boundries_df['matches']\n",
    "boundries_df['six_per_match'] = boundries_df['sixes']/boundries_df['matches']"
   ]
  },
  {
   "cell_type": "code",
   "execution_count": 44,
   "id": "unexpected-millennium",
   "metadata": {
    "execution": {
     "iopub.execute_input": "2021-06-25T21:17:04.493907Z",
     "iopub.status.busy": "2021-06-25T21:17:04.493344Z",
     "iopub.status.idle": "2021-06-25T21:17:04.617001Z",
     "shell.execute_reply": "2021-06-25T21:17:04.616565Z",
     "shell.execute_reply.started": "2021-06-05T14:30:42.117528Z"
    },
    "papermill": {
     "duration": 0.193649,
     "end_time": "2021-06-25T21:17:04.617149",
     "exception": false,
     "start_time": "2021-06-25T21:17:04.423500",
     "status": "completed"
    },
    "tags": []
   },
   "outputs": [
    {
     "data": {
      "image/png": "[encoded data removed]",
      "text/plain": [
       "<Figure size 432x288 with 1 Axes>"
      ]
     },
     "metadata": {
      "needs_background": "light"
     },
     "output_type": "display_data"
    }
   ],
   "source": [
    "ax = boundries_df.plot('psl_year', 'fours_per_match', kind='bar')"
   ]
  },
  {
   "cell_type": "code",
   "execution_count": 45,
   "id": "speaking-doubt",
   "metadata": {
    "execution": {
     "iopub.execute_input": "2021-06-25T21:17:04.712429Z",
     "iopub.status.busy": "2021-06-25T21:17:04.711832Z",
     "iopub.status.idle": "2021-06-25T21:17:04.858795Z",
     "shell.execute_reply": "2021-06-25T21:17:04.858358Z",
     "shell.execute_reply.started": "2021-06-05T14:30:42.309644Z"
    },
    "papermill": {
     "duration": 0.196562,
     "end_time": "2021-06-25T21:17:04.858949",
     "exception": false,
     "start_time": "2021-06-25T21:17:04.662387",
     "status": "completed"
    },
    "tags": []
   },
   "outputs": [
    {
     "data": {
      "image/png": "[encoded data removed]",
      "text/plain": [
       "<Figure size 432x288 with 1 Axes>"
      ]
     },
     "metadata": {
      "needs_background": "light"
     },
     "output_type": "display_data"
    }
   ],
   "source": [
    "ax = boundries_df.plot('psl_year', 'six_per_match', kind='bar')"
   ]
  },
  {
   "cell_type": "markdown",
   "id": "afraid-thompson",
   "metadata": {
    "papermill": {
     "duration": 0.04706,
     "end_time": "2021-06-25T21:17:05.043479",
     "exception": false,
     "start_time": "2021-06-25T21:17:04.996419",
     "status": "completed"
    },
    "tags": []
   },
   "source": [
    "# Wickets"
   ]
  },
  {
   "cell_type": "code",
   "execution_count": 46,
   "id": "active-perception",
   "metadata": {
    "execution": {
     "iopub.execute_input": "2021-06-25T21:17:05.147098Z",
     "iopub.status.busy": "2021-06-25T21:17:05.146494Z",
     "iopub.status.idle": "2021-06-25T21:17:05.150313Z",
     "shell.execute_reply": "2021-06-25T21:17:05.149866Z",
     "shell.execute_reply.started": "2021-06-05T14:30:42.496221Z"
    },
    "papermill": {
     "duration": 0.060423,
     "end_time": "2021-06-25T21:17:05.150445",
     "exception": false,
     "start_time": "2021-06-25T21:17:05.090022",
     "status": "completed"
    },
    "tags": []
   },
   "outputs": [
    {
     "data": {
      "text/plain": [
       "{'caught': 1147, 'bowled': 328, 'run out': 165, 'lbw': 130, 'others': 46}"
      ]
     },
     "execution_count": 46,
     "metadata": {},
     "output_type": "execute_result"
    }
   ],
   "source": [
    "wickets = df['wicket_text'].value_counts()\n",
    "wicket_dict = dict(wickets)\n",
    "del_keys = []\n",
    "others = 0\n",
    "for key, value in wicket_dict.items():\n",
    "    if value <100:\n",
    "        others = others+value\n",
    "        del_keys.append(key)\n",
    "for del_key in del_keys:\n",
    "    del(wicket_dict[del_key])\n",
    "wicket_dict['others']= others\n",
    "wicket_dict"
   ]
  },
  {
   "cell_type": "code",
   "execution_count": 47,
   "id": "prostate-debut",
   "metadata": {
    "execution": {
     "iopub.execute_input": "2021-06-25T21:17:05.406693Z",
     "iopub.status.busy": "2021-06-25T21:17:05.396710Z",
     "iopub.status.idle": "2021-06-25T21:17:05.518472Z",
     "shell.execute_reply": "2021-06-25T21:17:05.518908Z",
     "shell.execute_reply.started": "2021-06-05T14:30:42.510348Z"
    },
    "papermill": {
     "duration": 0.322679,
     "end_time": "2021-06-25T21:17:05.519087",
     "exception": false,
     "start_time": "2021-06-25T21:17:05.196408",
     "status": "completed"
    },
    "tags": []
   },
   "outputs": [
    {
     "data": {
      "text/plain": [
       "<BarContainer object of 5 artists>"
      ]
     },
     "execution_count": 47,
     "metadata": {},
     "output_type": "execute_result"
    },
    {
     "data": {
      "image/png": "[encoded data removed]",
      "text/plain": [
       "<Figure size 432x288 with 1 Axes>"
      ]
     },
     "metadata": {
      "needs_background": "light"
     },
     "output_type": "display_data"
    }
   ],
   "source": [
    "plt.bar(*zip(*wicket_dict.items()))"
   ]
  },
  {
   "cell_type": "markdown",
   "id": "animal-rouge",
   "metadata": {
    "papermill": {
     "duration": 0.046638,
     "end_time": "2021-06-25T21:17:05.705855",
     "exception": false,
     "start_time": "2021-06-25T21:17:05.659217",
     "status": "completed"
    },
    "tags": []
   },
   "source": [
    "# Team Based Dataframes"
   ]
  },
  {
   "cell_type": "code",
   "execution_count": 48,
   "id": "african-failing",
   "metadata": {
    "execution": {
     "iopub.execute_input": "2021-06-25T21:17:05.814214Z",
     "iopub.status.busy": "2021-06-25T21:17:05.813554Z",
     "iopub.status.idle": "2021-06-25T21:17:05.851023Z",
     "shell.execute_reply": "2021-06-25T21:17:05.851478Z",
     "shell.execute_reply.started": "2021-06-05T14:30:42.673909Z"
    },
    "papermill": {
     "duration": 0.09911,
     "end_time": "2021-06-25T21:17:05.851655",
     "exception": false,
     "start_time": "2021-06-25T21:17:05.752545",
     "status": "completed"
    },
    "tags": []
   },
   "outputs": [],
   "source": [
    "teams_df = {'Quetta' : df.loc[((df['team_1'] == \"Quetta Gladiators\") & (df['inning'] == 1)) | ((df['team_2'] == \"Quetta Gladiators\") & (df['inning'] == 2))],\n",
    "'Lahore' : df.loc[((df['team_1'] == \"Lahore Qalandars\") & (df['inning'] == 1)) | ((df['team_2'] == \"Lahore Qalandars\") & (df['inning'] == 2))],\n",
    "'Islamabad' : df.loc[((df['team_1'] == \"Islamabad United\") & (df['inning'] == 1)) | ((df['team_2'] == \"Islamabad United\") & (df['inning'] == 2))],\n",
    "'Peshawar' : df.loc[((df['team_1'] == \"Peshawar Zalmi\") & (df['inning'] == 1)) | ((df['team_2'] == \"Peshawar Zalmi\") & (df['inning'] == 2))],\n",
    "'Multan' : df.loc[((df['team_1'] == \"Multan Sultans\") & (df['inning'] == 1)) | ((df['team_2'] == \"Multan Sultans\") & (df['inning'] == 2))],\n",
    "'Karachi' : df.loc[((df['team_1'] == \"Karachi Kings\") & (df['inning'] == 1)) | ((df['team_2'] == \"Karachi Kings\") & (df['inning'] == 2))]\n",
    "}"
   ]
  },
  {
   "cell_type": "markdown",
   "id": "naval-taste",
   "metadata": {
    "papermill": {
     "duration": 0.046501,
     "end_time": "2021-06-25T21:17:05.945799",
     "exception": false,
     "start_time": "2021-06-25T21:17:05.899298",
     "status": "completed"
    },
    "tags": []
   },
   "source": [
    "# Team Based Runs"
   ]
  },
  {
   "cell_type": "code",
   "execution_count": 49,
   "id": "postal-grain",
   "metadata": {
    "execution": {
     "iopub.execute_input": "2021-06-25T21:17:06.045791Z",
     "iopub.status.busy": "2021-06-25T21:17:06.045158Z",
     "iopub.status.idle": "2021-06-25T21:17:06.056398Z",
     "shell.execute_reply": "2021-06-25T21:17:06.055873Z",
     "shell.execute_reply.started": "2021-06-05T14:30:42.917062Z"
    },
    "papermill": {
     "duration": 0.064149,
     "end_time": "2021-06-25T21:17:06.056538",
     "exception": false,
     "start_time": "2021-06-25T21:17:05.992389",
     "status": "completed"
    },
    "tags": []
   },
   "outputs": [],
   "source": [
    "team_runs = {}\n",
    "for team_name, value in teams_df.items():\n",
    "    team_runs[team_name] = value['runs'].sum()\n",
    "team_matches = {}\n",
    "for team_name , value in teams_df.items():\n",
    "    team_matches[team_name] = value.groupby(['psl_year', 'match_number']).ngroups"
   ]
  },
  {
   "cell_type": "code",
   "execution_count": 50,
   "id": "mineral-rabbit",
   "metadata": {
    "execution": {
     "iopub.execute_input": "2021-06-25T21:17:06.174463Z",
     "iopub.status.busy": "2021-06-25T21:17:06.172364Z",
     "iopub.status.idle": "2021-06-25T21:17:06.284635Z",
     "shell.execute_reply": "2021-06-25T21:17:06.284148Z",
     "shell.execute_reply.started": "2021-06-05T14:30:42.935542Z"
    },
    "papermill": {
     "duration": 0.18147,
     "end_time": "2021-06-25T21:17:06.284767",
     "exception": false,
     "start_time": "2021-06-25T21:17:06.103297",
     "status": "completed"
    },
    "tags": []
   },
   "outputs": [
    {
     "data": {
      "text/plain": [
       "<BarContainer object of 6 artists>"
      ]
     },
     "execution_count": 50,
     "metadata": {},
     "output_type": "execute_result"
    },
    {
     "data": {
      "image/png": "[encoded data removed]",
      "text/plain": [
       "<Figure size 432x288 with 1 Axes>"
      ]
     },
     "metadata": {
      "needs_background": "light"
     },
     "output_type": "display_data"
    }
   ],
   "source": [
    "plt.bar(*zip(*team_runs.items()))"
   ]
  },
  {
   "cell_type": "markdown",
   "id": "ultimate-supplier",
   "metadata": {
    "papermill": {
     "duration": 0.04778,
     "end_time": "2021-06-25T21:17:06.380369",
     "exception": false,
     "start_time": "2021-06-25T21:17:06.332589",
     "status": "completed"
    },
    "tags": []
   },
   "source": [
    "#### Among all the teams Peshawar scored the most runs, followed by Islamabad United."
   ]
  },
  {
   "cell_type": "markdown",
   "id": "resident-reconstruction",
   "metadata": {
    "papermill": {
     "duration": 0.047909,
     "end_time": "2021-06-25T21:17:06.476380",
     "exception": false,
     "start_time": "2021-06-25T21:17:06.428471",
     "status": "completed"
    },
    "tags": []
   },
   "source": [
    "# Team Based Percentage Runs in Boundaries"
   ]
  },
  {
   "cell_type": "code",
   "execution_count": 51,
   "id": "liberal-lightweight",
   "metadata": {
    "execution": {
     "iopub.execute_input": "2021-06-25T21:17:06.580287Z",
     "iopub.status.busy": "2021-06-25T21:17:06.579372Z",
     "iopub.status.idle": "2021-06-25T21:17:06.582420Z",
     "shell.execute_reply": "2021-06-25T21:17:06.581975Z",
     "shell.execute_reply.started": "2021-06-05T14:30:43.096296Z"
    },
    "papermill": {
     "duration": 0.058338,
     "end_time": "2021-06-25T21:17:06.582550",
     "exception": false,
     "start_time": "2021-06-25T21:17:06.524212",
     "status": "completed"
    },
    "tags": []
   },
   "outputs": [],
   "source": [
    "team_boundry_runs = {}\n",
    "for team_name, value in teams_df.items():\n",
    "    sixes = value['is_six'].sum()\n",
    "    fours = value['is_four'].sum()\n",
    "    team_boundry_runs[team_name]= (sixes*6)+(fours*4)\n",
    "\n",
    "boundry_run_percentage = {}\n",
    "for team, runs in team_runs.items():\n",
    "    boundry_run_percentage[team] = (team_boundry_runs[team]/runs)*100"
   ]
  },
  {
   "cell_type": "code",
   "execution_count": 52,
   "id": "aggressive-reader",
   "metadata": {
    "execution": {
     "iopub.execute_input": "2021-06-25T21:17:06.701553Z",
     "iopub.status.busy": "2021-06-25T21:17:06.699517Z",
     "iopub.status.idle": "2021-06-25T21:17:06.818252Z",
     "shell.execute_reply": "2021-06-25T21:17:06.817643Z",
     "shell.execute_reply.started": "2021-06-05T14:30:43.105866Z"
    },
    "papermill": {
     "duration": 0.188358,
     "end_time": "2021-06-25T21:17:06.818390",
     "exception": false,
     "start_time": "2021-06-25T21:17:06.630032",
     "status": "completed"
    },
    "tags": []
   },
   "outputs": [
    {
     "data": {
      "text/plain": [
       "<BarContainer object of 6 artists>"
      ]
     },
     "execution_count": 52,
     "metadata": {},
     "output_type": "execute_result"
    },
    {
     "data": {
      "image/png": "[encoded data removed]",
      "text/plain": [
       "<Figure size 432x288 with 1 Axes>"
      ]
     },
     "metadata": {
      "needs_background": "light"
     },
     "output_type": "display_data"
    }
   ],
   "source": [
    "plt.bar(*zip(*boundry_run_percentage.items()))"
   ]
  },
  {
   "cell_type": "markdown",
   "id": "fabulous-bobby",
   "metadata": {
    "papermill": {
     "duration": 0.04857,
     "end_time": "2021-06-25T21:17:06.916573",
     "exception": false,
     "start_time": "2021-06-25T21:17:06.868003",
     "status": "completed"
    },
    "tags": []
   },
   "source": [
    "#### This bar chart shows that Islamabad United dealt more in boundaries to score the runs."
   ]
  },
  {
   "cell_type": "markdown",
   "id": "linear-nickel",
   "metadata": {
    "papermill": {
     "duration": 0.049247,
     "end_time": "2021-06-25T21:17:07.014767",
     "exception": false,
     "start_time": "2021-06-25T21:17:06.965520",
     "status": "completed"
    },
    "tags": []
   },
   "source": [
    "# Dot Balls Played"
   ]
  },
  {
   "cell_type": "code",
   "execution_count": 53,
   "id": "alpine-excitement",
   "metadata": {
    "execution": {
     "iopub.execute_input": "2021-06-25T21:17:07.119667Z",
     "iopub.status.busy": "2021-06-25T21:17:07.118702Z",
     "iopub.status.idle": "2021-06-25T21:17:07.127612Z",
     "shell.execute_reply": "2021-06-25T21:17:07.128016Z",
     "shell.execute_reply.started": "2021-06-05T14:30:43.276788Z"
    },
    "papermill": {
     "duration": 0.064663,
     "end_time": "2021-06-25T21:17:07.128205",
     "exception": false,
     "start_time": "2021-06-25T21:17:07.063542",
     "status": "completed"
    },
    "tags": []
   },
   "outputs": [],
   "source": [
    "dot_balls_played = {}\n",
    "total_balls_played = {}\n",
    "for team, value in teams_df.items():\n",
    "    dot_balls_played[team]=value[value['runs']==0].shape[0]\n",
    "    total_balls_played[team]= value.shape[0]\n",
    "\n",
    "dot_ball_percentage ={}\n",
    "for team , value in dot_balls_played.items():\n",
    "    dot_ball_percentage[team] = (value/total_balls_played[team])*100\n"
   ]
  },
  {
   "cell_type": "code",
   "execution_count": 54,
   "id": "premier-center",
   "metadata": {
    "execution": {
     "iopub.execute_input": "2021-06-25T21:17:07.245202Z",
     "iopub.status.busy": "2021-06-25T21:17:07.244594Z",
     "iopub.status.idle": "2021-06-25T21:17:07.368664Z",
     "shell.execute_reply": "2021-06-25T21:17:07.368144Z",
     "shell.execute_reply.started": "2021-06-05T14:30:43.292265Z"
    },
    "papermill": {
     "duration": 0.19166,
     "end_time": "2021-06-25T21:17:07.368791",
     "exception": false,
     "start_time": "2021-06-25T21:17:07.177131",
     "status": "completed"
    },
    "tags": []
   },
   "outputs": [
    {
     "data": {
      "text/plain": [
       "<BarContainer object of 6 artists>"
      ]
     },
     "execution_count": 54,
     "metadata": {},
     "output_type": "execute_result"
    },
    {
     "data": {
      "image/png": "[encoded data removed]",
      "text/plain": [
       "<Figure size 432x288 with 1 Axes>"
      ]
     },
     "metadata": {
      "needs_background": "light"
     },
     "output_type": "display_data"
    }
   ],
   "source": [
    "plt.bar(*zip(*dot_ball_percentage.items()))"
   ]
  },
  {
   "cell_type": "markdown",
   "id": "returning-little",
   "metadata": {
    "papermill": {
     "duration": 0.048833,
     "end_time": "2021-06-25T21:17:07.468107",
     "exception": false,
     "start_time": "2021-06-25T21:17:07.419274",
     "status": "completed"
    },
    "tags": []
   },
   "source": [
    "#### Here, it shows that Lahore Qalanders played the most Dot balls."
   ]
  },
  {
   "cell_type": "markdown",
   "id": "convertible-malta",
   "metadata": {
    "papermill": {
     "duration": 0.048849,
     "end_time": "2021-06-25T21:17:07.567262",
     "exception": false,
     "start_time": "2021-06-25T21:17:07.518413",
     "status": "completed"
    },
    "tags": []
   },
   "source": [
    "# Six Hit Per Team"
   ]
  },
  {
   "cell_type": "code",
   "execution_count": 55,
   "id": "apart-assist",
   "metadata": {
    "execution": {
     "iopub.execute_input": "2021-06-25T21:17:07.700492Z",
     "iopub.status.busy": "2021-06-25T21:17:07.698840Z",
     "iopub.status.idle": "2021-06-25T21:17:07.812228Z",
     "shell.execute_reply": "2021-06-25T21:17:07.812632Z",
     "shell.execute_reply.started": "2021-06-05T14:30:43.467422Z"
    },
    "papermill": {
     "duration": 0.196028,
     "end_time": "2021-06-25T21:17:07.812798",
     "exception": false,
     "start_time": "2021-06-25T21:17:07.616770",
     "status": "completed"
    },
    "tags": []
   },
   "outputs": [
    {
     "data": {
      "text/plain": [
       "<BarContainer object of 6 artists>"
      ]
     },
     "execution_count": 55,
     "metadata": {},
     "output_type": "execute_result"
    },
    {
     "data": {
      "image/png": "[encoded data removed]",
      "text/plain": [
       "<Figure size 432x288 with 1 Axes>"
      ]
     },
     "metadata": {
      "needs_background": "light"
     },
     "output_type": "display_data"
    }
   ],
   "source": [
    "six_per_team = {}\n",
    "for team, value in teams_df.items():\n",
    "    six_per_team[team] = value['is_six'].sum()\n",
    "\n",
    "six_per_match ={}\n",
    "for team ,value in six_per_team.items():\n",
    "    six_per_match[team] = value/team_matches[team]\n",
    "\n",
    "plt.bar(*zip(*six_per_match.items()))"
   ]
  },
  {
   "cell_type": "markdown",
   "id": "unauthorized-blade",
   "metadata": {
    "papermill": {
     "duration": 0.050001,
     "end_time": "2021-06-25T21:17:07.913627",
     "exception": false,
     "start_time": "2021-06-25T21:17:07.863626",
     "status": "completed"
    },
    "tags": []
   },
   "source": [
    "#### Talking about sixes hit by the teams, Islamabad United placed the most sixes per match."
   ]
  },
  {
   "cell_type": "code",
   "execution_count": 56,
   "id": "varying-omega",
   "metadata": {
    "execution": {
     "iopub.execute_input": "2021-06-25T21:17:08.017514Z",
     "iopub.status.busy": "2021-06-25T21:17:08.016579Z",
     "iopub.status.idle": "2021-06-25T21:17:08.156723Z",
     "shell.execute_reply": "2021-06-25T21:17:08.157126Z",
     "shell.execute_reply.started": "2021-06-05T14:30:43.638002Z"
    },
    "papermill": {
     "duration": 0.19361,
     "end_time": "2021-06-25T21:17:08.157307",
     "exception": false,
     "start_time": "2021-06-25T21:17:07.963697",
     "status": "completed"
    },
    "tags": []
   },
   "outputs": [
    {
     "data": {
      "text/plain": [
       "<BarContainer object of 6 artists>"
      ]
     },
     "execution_count": 56,
     "metadata": {},
     "output_type": "execute_result"
    },
    {
     "data": {
      "image/png": "[encoded data removed]",
      "text/plain": [
       "<Figure size 432x288 with 1 Axes>"
      ]
     },
     "metadata": {
      "needs_background": "light"
     },
     "output_type": "display_data"
    }
   ],
   "source": [
    "plt.bar(*zip(*six_per_team.items()))"
   ]
  },
  {
   "cell_type": "markdown",
   "id": "flying-handbook",
   "metadata": {
    "papermill": {
     "duration": 0.050231,
     "end_time": "2021-06-25T21:17:08.258110",
     "exception": false,
     "start_time": "2021-06-25T21:17:08.207879",
     "status": "completed"
    },
    "tags": []
   },
   "source": [
    "#### Talking about sixes hit by the teams, Peshawar Zalmi placed the most sixes per team."
   ]
  },
  {
   "cell_type": "markdown",
   "id": "welsh-degree",
   "metadata": {
    "papermill": {
     "duration": 0.050125,
     "end_time": "2021-06-25T21:17:08.358673",
     "exception": false,
     "start_time": "2021-06-25T21:17:08.308548",
     "status": "completed"
    },
    "tags": []
   },
   "source": [
    "# Four Hit Per Team"
   ]
  },
  {
   "cell_type": "code",
   "execution_count": 57,
   "id": "southeast-fisher",
   "metadata": {
    "execution": {
     "iopub.execute_input": "2021-06-25T21:17:08.462878Z",
     "iopub.status.busy": "2021-06-25T21:17:08.461967Z",
     "iopub.status.idle": "2021-06-25T21:17:08.594559Z",
     "shell.execute_reply": "2021-06-25T21:17:08.594935Z",
     "shell.execute_reply.started": "2021-06-05T14:30:43.81078Z"
    },
    "papermill": {
     "duration": 0.186186,
     "end_time": "2021-06-25T21:17:08.595119",
     "exception": false,
     "start_time": "2021-06-25T21:17:08.408933",
     "status": "completed"
    },
    "tags": []
   },
   "outputs": [
    {
     "data": {
      "text/plain": [
       "<BarContainer object of 6 artists>"
      ]
     },
     "execution_count": 57,
     "metadata": {},
     "output_type": "execute_result"
    },
    {
     "data": {
      "image/png": "[encoded data removed]",
      "text/plain": [
       "<Figure size 432x288 with 1 Axes>"
      ]
     },
     "metadata": {
      "needs_background": "light"
     },
     "output_type": "display_data"
    }
   ],
   "source": [
    "four_per_team = {}\n",
    "for team, value in teams_df.items():\n",
    "    four_per_team[team] = value['is_four'].sum()\n",
    "\n",
    "four_per_match ={}\n",
    "for team ,value in four_per_team.items():\n",
    "    four_per_match[team] = value/team_matches[team]\n",
    "\n",
    "plt.bar(*zip(*four_per_match.items()))"
   ]
  },
  {
   "cell_type": "markdown",
   "id": "sharp-diesel",
   "metadata": {
    "papermill": {
     "duration": 0.050893,
     "end_time": "2021-06-25T21:17:08.697303",
     "exception": false,
     "start_time": "2021-06-25T21:17:08.646410",
     "status": "completed"
    },
    "tags": []
   },
   "source": [
    "#### It seems a coincidence that all the teams scored almost similar number of fours per match."
   ]
  },
  {
   "cell_type": "markdown",
   "id": "individual-dakota",
   "metadata": {
    "papermill": {
     "duration": 0.051102,
     "end_time": "2021-06-25T21:17:08.799551",
     "exception": false,
     "start_time": "2021-06-25T21:17:08.748449",
     "status": "completed"
    },
    "tags": []
   },
   "source": [
    "# Runs Scored Per Team"
   ]
  },
  {
   "cell_type": "code",
   "execution_count": 58,
   "id": "sufficient-vatican",
   "metadata": {
    "execution": {
     "iopub.execute_input": "2021-06-25T21:17:08.907905Z",
     "iopub.status.busy": "2021-06-25T21:17:08.907031Z",
     "iopub.status.idle": "2021-06-25T21:17:09.047408Z",
     "shell.execute_reply": "2021-06-25T21:17:09.047801Z",
     "shell.execute_reply.started": "2021-06-05T14:30:43.984269Z"
    },
    "papermill": {
     "duration": 0.195748,
     "end_time": "2021-06-25T21:17:09.047972",
     "exception": false,
     "start_time": "2021-06-25T21:17:08.852224",
     "status": "completed"
    },
    "tags": []
   },
   "outputs": [
    {
     "data": {
      "text/plain": [
       "<BarContainer object of 6 artists>"
      ]
     },
     "execution_count": 58,
     "metadata": {},
     "output_type": "execute_result"
    },
    {
     "data": {
      "image/png": "[encoded data removed]",
      "text/plain": [
       "<Figure size 432x288 with 1 Axes>"
      ]
     },
     "metadata": {
      "needs_background": "light"
     },
     "output_type": "display_data"
    }
   ],
   "source": [
    "runs_per_team = {}\n",
    "for team, value in teams_df.items():\n",
    "    runs_per_team[team] = value['runs'].sum()\n",
    "\n",
    "runs_per_match ={}\n",
    "for team ,value in runs_per_team.items():\n",
    "    runs_per_match[team] = value/team_matches[team]\n",
    "\n",
    "plt.bar(*zip(*runs_per_match.items()))"
   ]
  },
  {
   "cell_type": "markdown",
   "id": "english-today",
   "metadata": {
    "papermill": {
     "duration": 0.053332,
     "end_time": "2021-06-25T21:17:09.153922",
     "exception": false,
     "start_time": "2021-06-25T21:17:09.100590",
     "status": "completed"
    },
    "tags": []
   },
   "source": [
    "#### Here, again it seems that all the teams scored almost similar number of runs per match."
   ]
  },
  {
   "cell_type": "markdown",
   "id": "collectible-bread",
   "metadata": {
    "papermill": {
     "duration": 0.058189,
     "end_time": "2021-06-25T21:17:09.265006",
     "exception": false,
     "start_time": "2021-06-25T21:17:09.206817",
     "status": "completed"
    },
    "tags": []
   },
   "source": [
    "# Wickets Per Team"
   ]
  },
  {
   "cell_type": "code",
   "execution_count": 59,
   "id": "fifth-antarctica",
   "metadata": {
    "execution": {
     "iopub.execute_input": "2021-06-25T21:17:09.388903Z",
     "iopub.status.busy": "2021-06-25T21:17:09.388293Z",
     "iopub.status.idle": "2021-06-25T21:17:09.511129Z",
     "shell.execute_reply": "2021-06-25T21:17:09.511558Z",
     "shell.execute_reply.started": "2021-06-05T14:30:44.165358Z"
    },
    "papermill": {
     "duration": 0.194436,
     "end_time": "2021-06-25T21:17:09.511721",
     "exception": false,
     "start_time": "2021-06-25T21:17:09.317285",
     "status": "completed"
    },
    "tags": []
   },
   "outputs": [
    {
     "data": {
      "text/plain": [
       "<BarContainer object of 6 artists>"
      ]
     },
     "execution_count": 59,
     "metadata": {},
     "output_type": "execute_result"
    },
    {
     "data": {
      "image/png": "[encoded data removed]",
      "text/plain": [
       "<Figure size 432x288 with 1 Axes>"
      ]
     },
     "metadata": {
      "needs_background": "light"
     },
     "output_type": "display_data"
    }
   ],
   "source": [
    "wickets_per_team = {}\n",
    "for team, value in teams_df.items():\n",
    "    wickets_per_team[team] = value['is_wicket'].sum()\n",
    "\n",
    "wickets_per_match ={}\n",
    "for team ,value in wickets_per_team.items():\n",
    "    wickets_per_match[team] = value/team_matches[team]\n",
    "\n",
    "plt.bar(*zip(*wickets_per_team.items()))"
   ]
  },
  {
   "cell_type": "markdown",
   "id": "posted-cream",
   "metadata": {
    "papermill": {
     "duration": 0.053073,
     "end_time": "2021-06-25T21:17:09.618891",
     "exception": false,
     "start_time": "2021-06-25T21:17:09.565818",
     "status": "completed"
    },
    "tags": []
   },
   "source": [
    "#### The above barchart shows that, Peshawar Zalmi had the most wickets being fallen per team."
   ]
  },
  {
   "cell_type": "code",
   "execution_count": 60,
   "id": "similar-remove",
   "metadata": {
    "execution": {
     "iopub.execute_input": "2021-06-25T21:17:09.743186Z",
     "iopub.status.busy": "2021-06-25T21:17:09.742584Z",
     "iopub.status.idle": "2021-06-25T21:17:09.858581Z",
     "shell.execute_reply": "2021-06-25T21:17:09.859044Z",
     "shell.execute_reply.started": "2021-06-05T14:30:44.343767Z"
    },
    "papermill": {
     "duration": 0.186742,
     "end_time": "2021-06-25T21:17:09.859225",
     "exception": false,
     "start_time": "2021-06-25T21:17:09.672483",
     "status": "completed"
    },
    "tags": []
   },
   "outputs": [
    {
     "data": {
      "text/plain": [
       "<BarContainer object of 6 artists>"
      ]
     },
     "execution_count": 60,
     "metadata": {},
     "output_type": "execute_result"
    },
    {
     "data": {
      "image/png": "[encoded data removed]",
      "text/plain": [
       "<Figure size 432x288 with 1 Axes>"
      ]
     },
     "metadata": {
      "needs_background": "light"
     },
     "output_type": "display_data"
    }
   ],
   "source": [
    "plt.bar(*zip(*wickets_per_match.items()))"
   ]
  },
  {
   "cell_type": "code",
   "execution_count": 61,
   "id": "3eee9a88",
   "metadata": {},
   "outputs": [],
   "source": [
    "# Method to calculate if the team batting second won or not\n",
    "def is_winner(row):\n",
    "    if type(row['result']) == str:\n",
    "        if row['result'] in row['team_2']:\n",
    "            return 1\n",
    "        return 0\n",
    "    else:\n",
    "        return 0"
   ]
  },
  {
   "cell_type": "code",
   "execution_count": 62,
   "id": "9207092b",
   "metadata": {},
   "outputs": [],
   "source": [
    "# Method to calculate if a player was dismissed on this ball or not\n",
    "def is_out(row):\n",
    "    if type(row['player_dismissed']) == str:\n",
    "        return 1\n",
    "    else:\n",
    "        return 0"
   ]
  },
  {
   "cell_type": "markdown",
   "id": "mathematical-console",
   "metadata": {
    "papermill": {
     "duration": 0.05397,
     "end_time": "2021-06-25T21:17:10.415742",
     "exception": false,
     "start_time": "2021-06-25T21:17:10.361772",
     "status": "completed"
    },
    "tags": []
   },
   "source": [
    "# Data Manipulation to Extract Important Features"
   ]
  },
  {
   "cell_type": "code",
   "execution_count": 63,
   "id": "located-answer",
   "metadata": {
    "execution": {
     "iopub.execute_input": "2021-06-25T21:17:10.529191Z",
     "iopub.status.busy": "2021-06-25T21:17:10.528546Z",
     "iopub.status.idle": "2021-06-25T21:17:10.537912Z",
     "shell.execute_reply": "2021-06-25T21:17:10.537405Z",
     "shell.execute_reply.started": "2021-06-05T14:30:44.533829Z"
    },
    "papermill": {
     "duration": 0.068048,
     "end_time": "2021-06-25T21:17:10.538059",
     "exception": false,
     "start_time": "2021-06-25T21:17:10.470011",
     "status": "completed"
    },
    "tags": []
   },
   "outputs": [],
   "source": [
    "# Splitting on Innings\n",
    "first_inning = df[df['inning']==1]\n",
    "second_inning = df[df['inning']==2]"
   ]
  },
  {
   "cell_type": "code",
   "execution_count": 64,
   "id": "skilled-privilege",
   "metadata": {
    "execution": {
     "iopub.execute_input": "2021-06-25T21:17:10.654624Z",
     "iopub.status.busy": "2021-06-25T21:17:10.653496Z",
     "iopub.status.idle": "2021-06-25T21:17:10.664496Z",
     "shell.execute_reply": "2021-06-25T21:17:10.663995Z",
     "shell.execute_reply.started": "2021-06-05T14:30:44.555835Z"
    },
    "papermill": {
     "duration": 0.071352,
     "end_time": "2021-06-25T21:17:10.664621",
     "exception": false,
     "start_time": "2021-06-25T21:17:10.593269",
     "status": "completed"
    },
    "tags": []
   },
   "outputs": [],
   "source": [
    "# Calculating Target\n",
    "total_sum = first_inning.groupby([\"psl_year\",\"match_number\"]).agg(\n",
    "   target= (\"runs\",\"sum\")\n",
    ")"
   ]
  },
  {
   "cell_type": "code",
   "execution_count": 65,
   "id": "hawaiian-dancing",
   "metadata": {
    "execution": {
     "iopub.execute_input": "2021-06-25T21:17:10.778654Z",
     "iopub.status.busy": "2021-06-25T21:17:10.778089Z",
     "iopub.status.idle": "2021-06-25T21:17:10.781377Z",
     "shell.execute_reply": "2021-06-25T21:17:10.780899Z",
     "shell.execute_reply.started": "2021-06-05T14:30:44.574368Z"
    },
    "papermill": {
     "duration": 0.062947,
     "end_time": "2021-06-25T21:17:10.781505",
     "exception": false,
     "start_time": "2021-06-25T21:17:10.718558",
     "status": "completed"
    },
    "tags": []
   },
   "outputs": [],
   "source": [
    "total_sum = total_sum.reset_index()"
   ]
  },
  {
   "cell_type": "code",
   "execution_count": 66,
   "id": "divided-pressing",
   "metadata": {
    "execution": {
     "iopub.execute_input": "2021-06-25T21:17:10.896264Z",
     "iopub.status.busy": "2021-06-25T21:17:10.895331Z",
     "iopub.status.idle": "2021-06-25T21:17:10.916059Z",
     "shell.execute_reply": "2021-06-25T21:17:10.915440Z",
     "shell.execute_reply.started": "2021-06-05T14:30:44.582044Z"
    },
    "papermill": {
     "duration": 0.080603,
     "end_time": "2021-06-25T21:17:10.916213",
     "exception": false,
     "start_time": "2021-06-25T21:17:10.835610",
     "status": "completed"
    },
    "tags": []
   },
   "outputs": [],
   "source": [
    "# Merging the DF\n",
    "new_df = pd.merge(total_sum, second_inning,  how='left', left_on=['psl_year','match_number'], right_on = ['psl_year','match_number'])"
   ]
  },
  {
   "cell_type": "code",
   "execution_count": 67,
   "id": "biological-twins",
   "metadata": {
    "execution": {
     "iopub.execute_input": "2021-06-25T21:17:11.032006Z",
     "iopub.status.busy": "2021-06-25T21:17:11.031004Z",
     "iopub.status.idle": "2021-06-25T21:17:11.273126Z",
     "shell.execute_reply": "2021-06-25T21:17:11.272605Z",
     "shell.execute_reply.started": "2021-06-05T14:30:44.610085Z"
    },
    "papermill": {
     "duration": 0.302069,
     "end_time": "2021-06-25T21:17:11.273260",
     "exception": false,
     "start_time": "2021-06-25T21:17:10.971191",
     "status": "completed"
    },
    "tags": []
   },
   "outputs": [],
   "source": [
    "# Calculating if Second Inning team won or not \n",
    "new_df['won'] = new_df.apply(is_winner, axis=1)"
   ]
  },
  {
   "cell_type": "code",
   "execution_count": 68,
   "id": "devoted-retirement",
   "metadata": {
    "execution": {
     "iopub.execute_input": "2021-06-25T21:17:11.386269Z",
     "iopub.status.busy": "2021-06-25T21:17:11.385700Z",
     "iopub.status.idle": "2021-06-25T21:17:11.392584Z",
     "shell.execute_reply": "2021-06-25T21:17:11.392122Z",
     "shell.execute_reply.started": "2021-06-05T14:30:45.023629Z"
    },
    "papermill": {
     "duration": 0.065581,
     "end_time": "2021-06-25T21:17:11.392718",
     "exception": false,
     "start_time": "2021-06-25T21:17:11.327137",
     "status": "completed"
    },
    "tags": []
   },
   "outputs": [],
   "source": [
    "# Calculating balls left\n",
    "new_df['balls_left'] = 120-(((new_df['over']-1)*6)+new_df['ball'])"
   ]
  },
  {
   "cell_type": "code",
   "execution_count": 69,
   "id": "chubby-representation",
   "metadata": {
    "execution": {
     "iopub.execute_input": "2021-06-25T21:17:11.506121Z",
     "iopub.status.busy": "2021-06-25T21:17:11.505512Z",
     "iopub.status.idle": "2021-06-25T21:17:11.510456Z",
     "shell.execute_reply": "2021-06-25T21:17:11.510862Z",
     "shell.execute_reply.started": "2021-06-05T14:30:45.040572Z"
    },
    "papermill": {
     "duration": 0.064192,
     "end_time": "2021-06-25T21:17:11.511027",
     "exception": false,
     "start_time": "2021-06-25T21:17:11.446835",
     "status": "completed"
    },
    "tags": []
   },
   "outputs": [],
   "source": [
    "# Creating the Final Dataset\n",
    "final_df = new_df[['over','ball','total_runs','wickets','target','balls_left','won']]"
   ]
  },
  {
   "cell_type": "code",
   "execution_count": 70,
   "id": "polar-visiting",
   "metadata": {
    "execution": {
     "iopub.execute_input": "2021-06-25T21:17:11.632183Z",
     "iopub.status.busy": "2021-06-25T21:17:11.631260Z",
     "iopub.status.idle": "2021-06-25T21:17:11.635391Z",
     "shell.execute_reply": "2021-06-25T21:17:11.634864Z",
     "shell.execute_reply.started": "2021-06-05T14:30:45.051221Z"
    },
    "papermill": {
     "duration": 0.070424,
     "end_time": "2021-06-25T21:17:11.635528",
     "exception": false,
     "start_time": "2021-06-25T21:17:11.565104",
     "status": "completed"
    },
    "tags": []
   },
   "outputs": [
    {
     "data": {
      "text/html": [
       "<div>\n",
       "<style scoped>\n",
       "    .dataframe tbody tr th:only-of-type {\n",
       "        vertical-align: middle;\n",
       "    }\n",
       "\n",
       "    .dataframe tbody tr th {\n",
       "        vertical-align: top;\n",
       "    }\n",
       "\n",
       "    .dataframe thead th {\n",
       "        text-align: right;\n",
       "    }\n",
       "</style>\n",
       "<table border=\"1\" class=\"dataframe\">\n",
       "  <thead>\n",
       "    <tr style=\"text-align: right;\">\n",
       "      <th></th>\n",
       "      <th>over</th>\n",
       "      <th>ball</th>\n",
       "      <th>total_runs</th>\n",
       "      <th>wickets</th>\n",
       "      <th>target</th>\n",
       "      <th>balls_left</th>\n",
       "      <th>won</th>\n",
       "    </tr>\n",
       "  </thead>\n",
       "  <tbody>\n",
       "    <tr>\n",
       "      <th>0</th>\n",
       "      <td>1.0</td>\n",
       "      <td>1.0</td>\n",
       "      <td>0.0</td>\n",
       "      <td>0.0</td>\n",
       "      <td>128</td>\n",
       "      <td>119.0</td>\n",
       "      <td>1</td>\n",
       "    </tr>\n",
       "    <tr>\n",
       "      <th>1</th>\n",
       "      <td>1.0</td>\n",
       "      <td>2.0</td>\n",
       "      <td>0.0</td>\n",
       "      <td>0.0</td>\n",
       "      <td>128</td>\n",
       "      <td>118.0</td>\n",
       "      <td>1</td>\n",
       "    </tr>\n",
       "    <tr>\n",
       "      <th>2</th>\n",
       "      <td>1.0</td>\n",
       "      <td>3.0</td>\n",
       "      <td>0.0</td>\n",
       "      <td>0.0</td>\n",
       "      <td>128</td>\n",
       "      <td>117.0</td>\n",
       "      <td>1</td>\n",
       "    </tr>\n",
       "    <tr>\n",
       "      <th>3</th>\n",
       "      <td>1.0</td>\n",
       "      <td>4.0</td>\n",
       "      <td>2.0</td>\n",
       "      <td>0.0</td>\n",
       "      <td>128</td>\n",
       "      <td>116.0</td>\n",
       "      <td>1</td>\n",
       "    </tr>\n",
       "    <tr>\n",
       "      <th>4</th>\n",
       "      <td>1.0</td>\n",
       "      <td>5.0</td>\n",
       "      <td>2.0</td>\n",
       "      <td>0.0</td>\n",
       "      <td>128</td>\n",
       "      <td>115.0</td>\n",
       "      <td>1</td>\n",
       "    </tr>\n",
       "  </tbody>\n",
       "</table>\n",
       "</div>"
      ],
      "text/plain": [
       "   over  ball  total_runs  wickets  target  balls_left  won\n",
       "0   1.0   1.0         0.0      0.0     128       119.0    1\n",
       "1   1.0   2.0         0.0      0.0     128       118.0    1\n",
       "2   1.0   3.0         0.0      0.0     128       117.0    1\n",
       "3   1.0   4.0         2.0      0.0     128       116.0    1\n",
       "4   1.0   5.0         2.0      0.0     128       115.0    1"
      ]
     },
     "execution_count": 70,
     "metadata": {},
     "output_type": "execute_result"
    }
   ],
   "source": [
    "final_df.head()"
   ]
  },
  {
   "cell_type": "code",
   "execution_count": 71,
   "id": "handed-visiting",
   "metadata": {
    "execution": {
     "iopub.execute_input": "2021-06-25T21:17:11.749932Z",
     "iopub.status.busy": "2021-06-25T21:17:11.749369Z",
     "iopub.status.idle": "2021-06-25T21:17:11.752988Z",
     "shell.execute_reply": "2021-06-25T21:17:11.752445Z",
     "shell.execute_reply.started": "2021-06-05T14:30:45.074705Z"
    },
    "papermill": {
     "duration": 0.063312,
     "end_time": "2021-06-25T21:17:11.753146",
     "exception": false,
     "start_time": "2021-06-25T21:17:11.689834",
     "status": "completed"
    },
    "tags": []
   },
   "outputs": [
    {
     "name": "stderr",
     "output_type": "stream",
     "text": [
      "C:\\Users\\LENOVO\\AppData\\Local\\Temp/ipykernel_15736/3345168847.py:1: SettingWithCopyWarning: \n",
      "A value is trying to be set on a copy of a slice from a DataFrame.\n",
      "Try using .loc[row_indexer,col_indexer] = value instead\n",
      "\n",
      "See the caveats in the documentation: https://pandas.pydata.org/pandas-docs/stable/user_guide/indexing.html#returning-a-view-versus-a-copy\n",
      "  final_df['runs_left'] = final_df['target']- final_df['total_runs']\n"
     ]
    }
   ],
   "source": [
    "final_df['runs_left'] = final_df['target']- final_df['total_runs']"
   ]
  },
  {
   "cell_type": "markdown",
   "id": "remarkable-internet",
   "metadata": {
    "papermill": {
     "duration": 0.056146,
     "end_time": "2021-06-25T21:17:12.539792",
     "exception": false,
     "start_time": "2021-06-25T21:17:12.483646",
     "status": "completed"
    },
    "tags": []
   },
   "source": [
    "# Selecting particular columns for our model"
   ]
  },
  {
   "cell_type": "code",
   "execution_count": 72,
   "id": "crucial-audio",
   "metadata": {
    "execution": {
     "iopub.execute_input": "2021-06-25T21:17:12.656640Z",
     "iopub.status.busy": "2021-06-25T21:17:12.655998Z",
     "iopub.status.idle": "2021-06-25T21:17:12.658950Z",
     "shell.execute_reply": "2021-06-25T21:17:12.658414Z",
     "shell.execute_reply.started": "2021-06-05T14:30:45.09112Z"
    },
    "papermill": {
     "duration": 0.06299,
     "end_time": "2021-06-25T21:17:12.659091",
     "exception": false,
     "start_time": "2021-06-25T21:17:12.596101",
     "status": "completed"
    },
    "tags": []
   },
   "outputs": [],
   "source": [
    "new_cols =['wickets','balls_left','runs_left','won']"
   ]
  },
  {
   "cell_type": "code",
   "execution_count": 73,
   "id": "ordered-vietnamese",
   "metadata": {
    "execution": {
     "iopub.execute_input": "2021-06-25T21:17:12.776021Z",
     "iopub.status.busy": "2021-06-25T21:17:12.775415Z",
     "iopub.status.idle": "2021-06-25T21:17:12.785435Z",
     "shell.execute_reply": "2021-06-25T21:17:12.785884Z",
     "shell.execute_reply.started": "2021-06-05T14:30:45.106087Z"
    },
    "papermill": {
     "duration": 0.071169,
     "end_time": "2021-06-25T21:17:12.786037",
     "exception": false,
     "start_time": "2021-06-25T21:17:12.714868",
     "status": "completed"
    },
    "tags": []
   },
   "outputs": [
    {
     "data": {
      "text/html": [
       "<div>\n",
       "<style scoped>\n",
       "    .dataframe tbody tr th:only-of-type {\n",
       "        vertical-align: middle;\n",
       "    }\n",
       "\n",
       "    .dataframe tbody tr th {\n",
       "        vertical-align: top;\n",
       "    }\n",
       "\n",
       "    .dataframe thead th {\n",
       "        text-align: right;\n",
       "    }\n",
       "</style>\n",
       "<table border=\"1\" class=\"dataframe\">\n",
       "  <thead>\n",
       "    <tr style=\"text-align: right;\">\n",
       "      <th></th>\n",
       "      <th>wickets</th>\n",
       "      <th>balls_left</th>\n",
       "      <th>runs_left</th>\n",
       "      <th>won</th>\n",
       "    </tr>\n",
       "  </thead>\n",
       "  <tbody>\n",
       "    <tr>\n",
       "      <th>0</th>\n",
       "      <td>0.0</td>\n",
       "      <td>119.0</td>\n",
       "      <td>128.0</td>\n",
       "      <td>1</td>\n",
       "    </tr>\n",
       "    <tr>\n",
       "      <th>1</th>\n",
       "      <td>0.0</td>\n",
       "      <td>118.0</td>\n",
       "      <td>128.0</td>\n",
       "      <td>1</td>\n",
       "    </tr>\n",
       "    <tr>\n",
       "      <th>2</th>\n",
       "      <td>0.0</td>\n",
       "      <td>117.0</td>\n",
       "      <td>128.0</td>\n",
       "      <td>1</td>\n",
       "    </tr>\n",
       "    <tr>\n",
       "      <th>3</th>\n",
       "      <td>0.0</td>\n",
       "      <td>116.0</td>\n",
       "      <td>126.0</td>\n",
       "      <td>1</td>\n",
       "    </tr>\n",
       "    <tr>\n",
       "      <th>4</th>\n",
       "      <td>0.0</td>\n",
       "      <td>115.0</td>\n",
       "      <td>126.0</td>\n",
       "      <td>1</td>\n",
       "    </tr>\n",
       "  </tbody>\n",
       "</table>\n",
       "</div>"
      ],
      "text/plain": [
       "   wickets  balls_left  runs_left  won\n",
       "0      0.0       119.0      128.0    1\n",
       "1      0.0       118.0      128.0    1\n",
       "2      0.0       117.0      128.0    1\n",
       "3      0.0       116.0      126.0    1\n",
       "4      0.0       115.0      126.0    1"
      ]
     },
     "execution_count": 73,
     "metadata": {},
     "output_type": "execute_result"
    }
   ],
   "source": [
    "psl_df = final_df[new_cols]\n",
    "psl_df.head()"
   ]
  },
  {
   "cell_type": "code",
   "execution_count": 74,
   "id": "plain-attendance",
   "metadata": {
    "execution": {
     "iopub.execute_input": "2021-06-25T21:17:12.902513Z",
     "iopub.status.busy": "2021-06-25T21:17:12.901935Z",
     "iopub.status.idle": "2021-06-25T21:17:12.909267Z",
     "shell.execute_reply": "2021-06-25T21:17:12.909700Z",
     "shell.execute_reply.started": "2021-06-05T14:30:45.131786Z"
    },
    "papermill": {
     "duration": 0.067664,
     "end_time": "2021-06-25T21:17:12.909870",
     "exception": false,
     "start_time": "2021-06-25T21:17:12.842206",
     "status": "completed"
    },
    "tags": []
   },
   "outputs": [
    {
     "data": {
      "text/plain": [
       "wickets       2\n",
       "balls_left    2\n",
       "runs_left     2\n",
       "won           0\n",
       "dtype: int64"
      ]
     },
     "execution_count": 74,
     "metadata": {},
     "output_type": "execute_result"
    }
   ],
   "source": [
    "psl_df.isnull().sum()"
   ]
  },
  {
   "cell_type": "code",
   "execution_count": 75,
   "id": "touched-nothing",
   "metadata": {
    "execution": {
     "iopub.execute_input": "2021-06-25T21:17:13.026133Z",
     "iopub.status.busy": "2021-06-25T21:17:13.025498Z",
     "iopub.status.idle": "2021-06-25T21:17:13.029555Z",
     "shell.execute_reply": "2021-06-25T21:17:13.029963Z",
     "shell.execute_reply.started": "2021-06-05T14:30:45.144765Z"
    },
    "papermill": {
     "duration": 0.063606,
     "end_time": "2021-06-25T21:17:13.030206",
     "exception": false,
     "start_time": "2021-06-25T21:17:12.966600",
     "status": "completed"
    },
    "tags": []
   },
   "outputs": [
    {
     "data": {
      "text/plain": [
       "(16318, 4)"
      ]
     },
     "execution_count": 75,
     "metadata": {},
     "output_type": "execute_result"
    }
   ],
   "source": [
    "psl_df.shape"
   ]
  },
  {
   "cell_type": "code",
   "execution_count": 76,
   "id": "medieval-setup",
   "metadata": {
    "execution": {
     "iopub.execute_input": "2021-06-25T21:17:13.147141Z",
     "iopub.status.busy": "2021-06-25T21:17:13.146553Z",
     "iopub.status.idle": "2021-06-25T21:17:13.155103Z",
     "shell.execute_reply": "2021-06-25T21:17:13.155548Z",
     "shell.execute_reply.started": "2021-06-05T14:30:45.159897Z"
    },
    "papermill": {
     "duration": 0.068984,
     "end_time": "2021-06-25T21:17:13.155711",
     "exception": false,
     "start_time": "2021-06-25T21:17:13.086727",
     "status": "completed"
    },
    "tags": []
   },
   "outputs": [],
   "source": [
    "psl_df = psl_df.apply (pd.to_numeric, errors='coerce')\n",
    "psl_df = psl_df.dropna()"
   ]
  },
  {
   "cell_type": "code",
   "execution_count": 77,
   "id": "cellular-bouquet",
   "metadata": {
    "execution": {
     "iopub.execute_input": "2021-06-25T21:17:13.272886Z",
     "iopub.status.busy": "2021-06-25T21:17:13.272308Z",
     "iopub.status.idle": "2021-06-25T21:17:13.277048Z",
     "shell.execute_reply": "2021-06-25T21:17:13.277568Z",
     "shell.execute_reply.started": "2021-06-05T14:30:45.176983Z"
    },
    "papermill": {
     "duration": 0.064842,
     "end_time": "2021-06-25T21:17:13.277724",
     "exception": false,
     "start_time": "2021-06-25T21:17:13.212882",
     "status": "completed"
    },
    "tags": []
   },
   "outputs": [
    {
     "data": {
      "text/plain": [
       "(16316, 4)"
      ]
     },
     "execution_count": 77,
     "metadata": {},
     "output_type": "execute_result"
    }
   ],
   "source": [
    "psl_df.shape"
   ]
  },
  {
   "cell_type": "code",
   "execution_count": 78,
   "id": "humanitarian-article",
   "metadata": {
    "execution": {
     "iopub.execute_input": "2021-06-25T21:17:13.397193Z",
     "iopub.status.busy": "2021-06-25T21:17:13.396403Z",
     "iopub.status.idle": "2021-06-25T21:17:13.401528Z",
     "shell.execute_reply": "2021-06-25T21:17:13.400901Z",
     "shell.execute_reply.started": "2021-06-05T14:30:45.195846Z"
    },
    "papermill": {
     "duration": 0.064981,
     "end_time": "2021-06-25T21:17:13.401665",
     "exception": false,
     "start_time": "2021-06-25T21:17:13.336684",
     "status": "completed"
    },
    "tags": []
   },
   "outputs": [],
   "source": [
    "# X and Y Split\n",
    "y = psl_df.iloc[:,3]\n",
    "X = psl_df.iloc[:,:3]"
   ]
  },
  {
   "attachments": {},
   "cell_type": "markdown",
   "id": "0085c33d",
   "metadata": {},
   "source": [
    "# Train Test split"
   ]
  },
  {
   "cell_type": "code",
   "execution_count": 79,
   "id": "entire-kernel",
   "metadata": {
    "execution": {
     "iopub.execute_input": "2021-06-25T21:17:13.522235Z",
     "iopub.status.busy": "2021-06-25T21:17:13.521581Z",
     "iopub.status.idle": "2021-06-25T21:17:13.526595Z",
     "shell.execute_reply": "2021-06-25T21:17:13.526016Z",
     "shell.execute_reply.started": "2021-06-05T14:30:45.209426Z"
    },
    "papermill": {
     "duration": 0.067452,
     "end_time": "2021-06-25T21:17:13.526726",
     "exception": false,
     "start_time": "2021-06-25T21:17:13.459274",
     "status": "completed"
    },
    "tags": []
   },
   "outputs": [],
   "source": [
    "# Train and Test Split\n",
    "X_train, X_test, y_train, y_test = train_test_split(X,y,test_size=0.2,random_state = 42)"
   ]
  },
  {
   "attachments": {},
   "cell_type": "markdown",
   "id": "f07f9655",
   "metadata": {},
   "source": [
    "# Pridiction with Decision Tree"
   ]
  },
  {
   "cell_type": "code",
   "execution_count": 80,
   "id": "3380d507",
   "metadata": {},
   "outputs": [],
   "source": [
    "model = tree.DecisionTreeClassifier()\n",
    "\n",
    "model.fit(X_train, y_train)\n",
    "y_pred_test = model.predict(X_test)\n"
   ]
  },
  {
   "cell_type": "code",
   "execution_count": 81,
   "id": "9bd62eac",
   "metadata": {},
   "outputs": [
    {
     "data": {
      "text/plain": [
       "0.7797181372549019"
      ]
     },
     "execution_count": 81,
     "metadata": {},
     "output_type": "execute_result"
    }
   ],
   "source": [
    "accuracy_score(y_test, y_pred_test)"
   ]
  },
  {
   "cell_type": "code",
   "execution_count": 82,
   "id": "f171efa0",
   "metadata": {},
   "outputs": [
    {
     "name": "stdout",
     "output_type": "stream",
     "text": [
      "              precision    recall  f1-score   support\n",
      "\n",
      "           0       0.70      0.71      0.71      1229\n",
      "           1       0.83      0.82      0.82      2035\n",
      "\n",
      "    accuracy                           0.78      3264\n",
      "   macro avg       0.77      0.77      0.77      3264\n",
      "weighted avg       0.78      0.78      0.78      3264\n",
      "\n"
     ]
    }
   ],
   "source": [
    "print(classification_report(y_test, y_pred_test))"
   ]
  },
  {
   "attachments": {},
   "cell_type": "markdown",
   "id": "juvenile-brooklyn",
   "metadata": {
    "papermill": {
     "duration": 0.057584,
     "end_time": "2021-06-25T21:18:05.425720",
     "exception": false,
     "start_time": "2021-06-25T21:18:05.368136",
     "status": "completed"
    },
    "tags": []
   },
   "source": [
    "# predictions with XGBoost Classifier"
   ]
  },
  {
   "cell_type": "code",
   "execution_count": 83,
   "id": "advanced-malawi",
   "metadata": {
    "execution": {
     "iopub.execute_input": "2021-06-25T21:18:05.546424Z",
     "iopub.status.busy": "2021-06-25T21:18:05.545541Z",
     "iopub.status.idle": "2021-06-25T21:18:05.896552Z",
     "shell.execute_reply": "2021-06-25T21:18:05.896092Z",
     "shell.execute_reply.started": "2021-06-05T14:31:45.594576Z"
    },
    "papermill": {
     "duration": 0.413368,
     "end_time": "2021-06-25T21:18:05.896686",
     "exception": false,
     "start_time": "2021-06-25T21:18:05.483318",
     "status": "completed"
    },
    "tags": []
   },
   "outputs": [
    {
     "data": {
      "text/plain": [
       "XGBClassifier(base_score=None, booster=None, callbacks=None,\n",
       "              colsample_bylevel=None, colsample_bynode=None,\n",
       "              colsample_bytree=None, early_stopping_rounds=None,\n",
       "              enable_categorical=False, eval_metric=None, feature_types=None,\n",
       "              gamma=None, gpu_id=None, grow_policy=None, importance_type=None,\n",
       "              interaction_constraints=None, learning_rate=None, max_bin=None,\n",
       "              max_cat_threshold=None, max_cat_to_onehot=None,\n",
       "              max_delta_step=None, max_depth=None, max_leaves=None,\n",
       "              min_child_weight=None, missing=nan, monotone_constraints=None,\n",
       "              n_estimators=100, n_jobs=None, num_parallel_tree=None,\n",
       "              predictor=None, random_state=None, ...)"
      ]
     },
     "execution_count": 83,
     "metadata": {},
     "output_type": "execute_result"
    }
   ],
   "source": [
    "XGBC = xgboost.XGBClassifier()\n",
    "XGBC.fit(X_train, y_train)"
   ]
  },
  {
   "cell_type": "code",
   "execution_count": 84,
   "id": "sticky-acoustic",
   "metadata": {
    "execution": {
     "iopub.execute_input": "2021-06-25T21:18:06.027748Z",
     "iopub.status.busy": "2021-06-25T21:18:06.018690Z",
     "iopub.status.idle": "2021-06-25T21:18:06.030115Z",
     "shell.execute_reply": "2021-06-25T21:18:06.030514Z",
     "shell.execute_reply.started": "2021-06-05T14:31:45.933443Z"
    },
    "papermill": {
     "duration": 0.074887,
     "end_time": "2021-06-25T21:18:06.030672",
     "exception": false,
     "start_time": "2021-06-25T21:18:05.955785",
     "status": "completed"
    },
    "tags": []
   },
   "outputs": [],
   "source": [
    "y_pred = XGBC.predict(X_test)\n",
    "predictions = [round(value) for value in y_pred]"
   ]
  },
  {
   "cell_type": "code",
   "execution_count": 85,
   "id": "psychological-maria",
   "metadata": {
    "execution": {
     "iopub.execute_input": "2021-06-25T21:18:06.152342Z",
     "iopub.status.busy": "2021-06-25T21:18:06.151668Z",
     "iopub.status.idle": "2021-06-25T21:18:06.156986Z",
     "shell.execute_reply": "2021-06-25T21:18:06.156545Z",
     "shell.execute_reply.started": "2021-06-05T14:31:45.955235Z"
    },
    "papermill": {
     "duration": 0.067751,
     "end_time": "2021-06-25T21:18:06.157119",
     "exception": false,
     "start_time": "2021-06-25T21:18:06.089368",
     "status": "completed"
    },
    "tags": []
   },
   "outputs": [
    {
     "name": "stdout",
     "output_type": "stream",
     "text": [
      "Accuracy: 81.31%\n"
     ]
    }
   ],
   "source": [
    "accuracy = accuracy_score(y_test, predictions)\n",
    "print(\"Accuracy: %.2f%%\" % (accuracy * 100.0))"
   ]
  },
  {
   "cell_type": "code",
   "execution_count": 86,
   "id": "eight-bacon",
   "metadata": {
    "execution": {
     "iopub.execute_input": "2021-06-25T21:18:06.278996Z",
     "iopub.status.busy": "2021-06-25T21:18:06.278427Z",
     "iopub.status.idle": "2021-06-25T21:18:06.292695Z",
     "shell.execute_reply": "2021-06-25T21:18:06.293207Z",
     "shell.execute_reply.started": "2021-06-05T14:37:25.531149Z"
    },
    "papermill": {
     "duration": 0.077596,
     "end_time": "2021-06-25T21:18:06.293379",
     "exception": false,
     "start_time": "2021-06-25T21:18:06.215783",
     "status": "completed"
    },
    "tags": []
   },
   "outputs": [
    {
     "name": "stdout",
     "output_type": "stream",
     "text": [
      "              precision    recall  f1-score   support\n",
      "\n",
      "           0       0.80      0.67      0.73      1229\n",
      "           1       0.82      0.90      0.86      2035\n",
      "\n",
      "    accuracy                           0.81      3264\n",
      "   macro avg       0.81      0.78      0.79      3264\n",
      "weighted avg       0.81      0.81      0.81      3264\n",
      "\n"
     ]
    }
   ],
   "source": [
    "print(classification_report(y_test, predictions))"
   ]
  },
  {
   "cell_type": "code",
   "execution_count": 87,
   "id": "ecological-breathing",
   "metadata": {
    "execution": {
     "iopub.execute_input": "2021-06-25T21:18:06.416229Z",
     "iopub.status.busy": "2021-06-25T21:18:06.415545Z",
     "iopub.status.idle": "2021-06-25T21:18:06.423518Z",
     "shell.execute_reply": "2021-06-25T21:18:06.423875Z",
     "shell.execute_reply.started": "2021-06-05T14:31:45.982527Z"
    },
    "papermill": {
     "duration": 0.072173,
     "end_time": "2021-06-25T21:18:06.424023",
     "exception": false,
     "start_time": "2021-06-25T21:18:06.351850",
     "status": "completed"
    },
    "tags": []
   },
   "outputs": [
    {
     "data": {
      "text/plain": [
       "array([[0.22686851, 0.7731315 ]], dtype=float32)"
      ]
     },
     "execution_count": 87,
     "metadata": {},
     "output_type": "execute_result"
    }
   ],
   "source": [
    "current= {\n",
    "    \"wickets\":1,\n",
    "    \"balls_left\" :105,\n",
    "    \"runs_left\":137\n",
    "}\n",
    "current_df = pd.DataFrame(current,index=[0])\n",
    "XGBC.predict_proba(current_df)"
   ]
  },
  {
   "cell_type": "markdown",
   "id": "substantial-overall",
   "metadata": {
    "papermill": {
     "duration": 0.058404,
     "end_time": "2021-06-25T21:18:06.589329",
     "exception": false,
     "start_time": "2021-06-25T21:18:06.530925",
     "status": "completed"
    },
    "tags": []
   },
   "source": [
    "# Making predictions with SVM "
   ]
  },
  {
   "cell_type": "code",
   "execution_count": 88,
   "id": "martial-physiology",
   "metadata": {
    "execution": {
     "iopub.execute_input": "2021-06-25T21:18:06.708893Z",
     "iopub.status.busy": "2021-06-25T21:18:06.708354Z",
     "iopub.status.idle": "2021-06-25T21:18:13.272086Z",
     "shell.execute_reply": "2021-06-25T21:18:13.271420Z",
     "shell.execute_reply.started": "2021-06-05T14:31:45.999627Z"
    },
    "papermill": {
     "duration": 6.624804,
     "end_time": "2021-06-25T21:18:13.272268",
     "exception": false,
     "start_time": "2021-06-25T21:18:06.647464",
     "status": "completed"
    },
    "tags": []
   },
   "outputs": [
    {
     "name": "stdout",
     "output_type": "stream",
     "text": [
      "The accuracy using SVC Classifier is: 78.09436274509804\n"
     ]
    }
   ],
   "source": [
    "SVC_model = svm.SVC()\n",
    "\n",
    "SVC_model.fit(X_train, y_train)\n",
    "\n",
    "predicted = SVC_model.predict(X_test)\n",
    "a = accuracy_score(y_test,predicted)\n",
    "print('The accuracy using SVC Classifier is:',format(a*100))"
   ]
  },
  {
   "cell_type": "code",
   "execution_count": 89,
   "id": "optional-albania",
   "metadata": {
    "execution": {
     "iopub.execute_input": "2021-06-25T21:18:13.397363Z",
     "iopub.status.busy": "2021-06-25T21:18:13.396693Z",
     "iopub.status.idle": "2021-06-25T21:18:13.409934Z",
     "shell.execute_reply": "2021-06-25T21:18:13.410623Z",
     "shell.execute_reply.started": "2021-06-05T14:38:16.554697Z"
    },
    "papermill": {
     "duration": 0.077376,
     "end_time": "2021-06-25T21:18:13.410912",
     "exception": false,
     "start_time": "2021-06-25T21:18:13.333536",
     "status": "completed"
    },
    "tags": []
   },
   "outputs": [
    {
     "name": "stdout",
     "output_type": "stream",
     "text": [
      "              precision    recall  f1-score   support\n",
      "\n",
      "           0       0.77      0.60      0.67      1229\n",
      "           1       0.79      0.89      0.84      2035\n",
      "\n",
      "    accuracy                           0.78      3264\n",
      "   macro avg       0.78      0.74      0.75      3264\n",
      "weighted avg       0.78      0.78      0.77      3264\n",
      "\n"
     ]
    }
   ],
   "source": [
    "print(classification_report(y_test, predicted))"
   ]
  },
  {
   "attachments": {},
   "cell_type": "markdown",
   "id": "860decd0",
   "metadata": {},
   "source": [
    "# Pridiction With Logistic\n"
   ]
  },
  {
   "cell_type": "code",
   "execution_count": 90,
   "id": "7feb441d",
   "metadata": {},
   "outputs": [],
   "source": [
    "model = LogisticRegression()\n",
    "\n",
    "model.fit(X_train, y_train)\n",
    "\n",
    "y_pred_test = model.predict(X_test)"
   ]
  },
  {
   "cell_type": "code",
   "execution_count": 91,
   "id": "fe6d9fe9",
   "metadata": {},
   "outputs": [
    {
     "data": {
      "text/plain": [
       "0.7732843137254902"
      ]
     },
     "execution_count": 91,
     "metadata": {},
     "output_type": "execute_result"
    }
   ],
   "source": [
    "accuracy_score(y_test, y_pred_test)"
   ]
  },
  {
   "cell_type": "code",
   "execution_count": 92,
   "id": "f1aebc98",
   "metadata": {},
   "outputs": [
    {
     "name": "stdout",
     "output_type": "stream",
     "text": [
      "              precision    recall  f1-score   support\n",
      "\n",
      "           0       0.73      0.64      0.68      1229\n",
      "           1       0.80      0.86      0.82      2035\n",
      "\n",
      "    accuracy                           0.77      3264\n",
      "   macro avg       0.76      0.75      0.75      3264\n",
      "weighted avg       0.77      0.77      0.77      3264\n",
      "\n"
     ]
    }
   ],
   "source": [
    "print(classification_report(y_test, y_pred_test))"
   ]
  }
 ],
 "metadata": {
  "kernelspec": {
   "display_name": "base",
   "language": "python",
   "name": "python3"
  },
  "language_info": {
   "codemirror_mode": {
    "name": "ipython",
    "version": 3
   },
   "file_extension": ".py",
   "mimetype": "text/x-python",
   "name": "python",
   "nbconvert_exporter": "python",
   "pygments_lexer": "ipython3",
   "version": "3.9.7"
  },
  "papermill": {
   "default_parameters": {},
   "duration": 82.874845,
   "end_time": "2021-06-25T21:18:14.890788",
   "environment_variables": {},
   "exception": null,
   "input_path": "__notebook__.ipynb",
   "output_path": "__notebook__.ipynb",
   "parameters": {},
   "start_time": "2021-06-25T21:16:52.015943",
   "version": "2.3.3"
  },
  "vscode": {
   "interpreter": {
    "hash": "7679c2132d3f6ce38c9df14d554b39c06862b36a4e6689c81f9ae15bd0911d7d"
   }
  }
 },
 "nbformat": 4,
 "nbformat_minor": 5
}
